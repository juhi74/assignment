{
 "cells": [
  {
   "cell_type": "code",
   "execution_count": 16,
   "id": "2b620402-b13b-47a1-868a-0507e652058a",
   "metadata": {},
   "outputs": [
    {
     "name": "stdout",
     "output_type": "stream",
     "text": [
      "<class 'str'>\n",
      "hello world\n",
      "[1, 2, 3, 4, 'mango', 'public', 34.5, 2454]\n",
      "<class 'list'>\n",
      "('vegtables', 'potatos', 'fruits', 'world')\n",
      "<class 'tuple'>\n",
      "3.14\n",
      "<class 'float'>\n"
     ]
    }
   ],
   "source": [
    "#Q1. Create one variable containing following type of data:\n",
    "#(i)\tstring\n",
    "#(ii)\tlist\n",
    "#(iii)\tfloat\n",
    "#(iv)\ttuple\n",
    "\n",
    "\n",
    "x=\"hello world\"\n",
    "print(type(x))\n",
    "print(x)\n",
    "y=[1,2,3,4,\"mango\",\"public\",34.5,2454]\n",
    "print(y)\n",
    "print(type(y))\n",
    "z=(\"vegtables\",\"potatos\",\"fruits\",\"world\")\n",
    "print(z)\n",
    "print(type(z))\n",
    "a=3.14\n",
    "print(a)\n",
    "print(type(a))"
   ]
  },
  {
   "cell_type": "code",
   "execution_count": 2,
   "id": "0386ad98-88e5-4ba9-bf7f-766030f13cba",
   "metadata": {},
   "outputs": [
    {
     "name": "stdout",
     "output_type": "stream",
     "text": [
      "<class 'str'>\n",
      "<class 'str'>\n",
      "<class 'list'>\n",
      "<class 'float'>\n"
     ]
    }
   ],
   "source": [
    "#Q2. Given are some following variables containing data:\n",
    "#(i)\tvar1 = ‘ ‘\n",
    "#(ii)\tvar2 = ‘[ DS , ML , Python]’\n",
    "#(iii)\tvar3 = [ ‘DS’ , ’ML’ , ‘Python’ ]\n",
    "#(iv)\tvar4 = 1.\n",
    "#What will be the data type of the above given variable\n",
    "\n",
    "\n",
    "var1=' '\n",
    "var2 = '[ DS , ML , Python]'\n",
    "var3=['ds','ml','python']\n",
    "var4=1.\n",
    "print(type(var1))\n",
    "print(type(var2))\n",
    "print(type(var3))\n",
    "print(type(var4))"
   ]
  },
  {
   "cell_type": "code",
   "execution_count": 30,
   "id": "351fb897-1b55-4ffc-9931-82985e73b544",
   "metadata": {},
   "outputs": [
    {
     "name": "stdin",
     "output_type": "stream",
     "text": [
      "enter value of a : 11\n",
      "enter value of b : 3\n"
     ]
    },
    {
     "name": "stdout",
     "output_type": "stream",
     "text": [
      "division of a and b: 3.6666666666666665\n",
      "modulas of a and b: 2\n",
      "double_division of a and b: 3\n",
      "square of a and b: 1331\n"
     ]
    }
   ],
   "source": [
    "# Q3. Explain the use of the following operators using an example:\n",
    "#(i)\t/\n",
    "#(ii)\t% \n",
    "#(iii)\t//\n",
    "#(iv)\t**\n",
    "\n",
    "\n",
    "a=int(input(\"enter value of a :\"))\n",
    "b=int(input(\"enter value of b :\"))\n",
    "division=a/b\n",
    "print(\"division of a and b:\", division)\n",
    "modulas=a%b\n",
    "print(\"modulas of a and b:\", modulas)\n",
    "double_division=a//b\n",
    "print(\"double_division of a and b:\", double_division)\n",
    "square=a**b\n",
    "print(\"square of a and b:\", square)\n"
   ]
  },
  {
   "cell_type": "code",
   "execution_count": 2,
   "id": "a322ffa5-c461-4019-a930-d8071535d87f",
   "metadata": {},
   "outputs": [
    {
     "name": "stdout",
     "output_type": "stream",
     "text": [
      "<class 'list'> 1\n",
      "<class 'list'> 2\n",
      "<class 'list'> 3.14\n",
      "<class 'list'> true\n",
      "<class 'list'> mango\n",
      "<class 'list'> friuts\n",
      "<class 'list'> b'hello'\n",
      "<class 'list'> 3.14\n"
     ]
    }
   ],
   "source": [
    "# Q4. Create a list of length 10 of your choice containing multiple types of data. Using for loop print the \n",
    "#element and its data type\n",
    "\n",
    "\n",
    "value=[1,2,3.14,'true',\"mango\",\"friuts\",b\"hello\" ,3.14]\n",
    "for i in value :\n",
    "    print(type(value), i)"
   ]
  },
  {
   "cell_type": "code",
   "execution_count": 13,
   "id": "32ff533d-d873-4ea1-aaee-1125a59ccd05",
   "metadata": {},
   "outputs": [
    {
     "name": "stdin",
     "output_type": "stream",
     "text": [
      "type a number 22\n",
      "type b number 11\n"
     ]
    }
   ],
   "source": [
    "'''Q5. Using a while loop, verify if the number A is purely divisible by number B and if so then how many \n",
    "times it can be divisible'''\n",
    "# i am not able to solve this question sir please provide me solution of this qusestion.\n",
    "\n",
    "a=(int(input(\"type a number\"))) \n",
    "b=(int(input(\"type b number\"))) \n",
    "c=0\n",
    "if  a / b==0:\n",
    "    while a/b>=b and type(a/b)==int:\n",
    "        c+=1\n",
    "        a/=b\n",
    "    c    \n",
    "else:\n",
    "    (\"no a is not divisible by b\")"
   ]
  },
  {
   "cell_type": "code",
   "execution_count": 31,
   "id": "3f254af6-9c2a-4db0-9bce-3b89c3cf14f6",
   "metadata": {},
   "outputs": [
    {
     "data": {
      "text/plain": [
       "[3, 45, 66, 12, 72, 54, 234, 21]"
      ]
     },
     "execution_count": 31,
     "metadata": {},
     "output_type": "execute_result"
    }
   ],
   "source": [
    "'''Q6. Create a list containing 25 int type data. Using for loop and if-else condition print if the element is \n",
    "divisible by 3 or not.'''\n",
    "\n",
    "l=[2,3,45,55,65,67,44,23,66,12,72,98,5,31,62,22,4,32,54,234,95,673,21,13,343]\n",
    "l1=[]\n",
    "l2=[]\n",
    "for i in l:\n",
    "    if i%3==0:\n",
    "        l1.append(i)\n",
    "    else :\n",
    "        l2.append(i)\n",
    "l1        "
   ]
  },
  {
   "cell_type": "code",
   "execution_count": 32,
   "id": "e8d171ba-2293-4e82-9f04-7c60fefac94b",
   "metadata": {},
   "outputs": [
    {
     "data": {
      "text/plain": [
       "[2, 55, 65, 67, 44, 23, 98, 5, 31, 62, 22, 4, 32, 95, 673, 13, 343]"
      ]
     },
     "execution_count": 32,
     "metadata": {},
     "output_type": "execute_result"
    }
   ],
   "source": [
    "l2"
   ]
  },
  {
   "cell_type": "code",
   "execution_count": 51,
   "id": "3f042b41-57c8-49da-821e-959c0938a265",
   "metadata": {},
   "outputs": [
    {
     "data": {
      "text/plain": [
       "[1, 3, 5, 6, 3, 6, 3, 'juhi', 'school']"
      ]
     },
     "execution_count": 51,
     "metadata": {},
     "output_type": "execute_result"
    }
   ],
   "source": [
    "'''Q7. What do you understand about mutable and immutable data types? Give examples for both showing \n",
    "this property.'''\n",
    "\n",
    "#ANSWERS: \n",
    "'''mutable mean you can change the value of that data type after declaired that data whereas as immutable mean you are not able to cahnge the value\n",
    "of that data types once you declaired it'''\n",
    "l=[1,3,5,6,3,6,3,\"juhi\",\"school\"]\n",
    "l"
   ]
  },
  {
   "cell_type": "code",
   "execution_count": 52,
   "id": "6c30ef58-d592-4897-a574-c3849f9d50ae",
   "metadata": {},
   "outputs": [
    {
     "data": {
      "text/plain": [
       "[1, 3, 5, 33, 3, 6, 3, 'juhi', 'school']"
      ]
     },
     "execution_count": 52,
     "metadata": {},
     "output_type": "execute_result"
    }
   ],
   "source": [
    "#example of immutable\n",
    "l[3]=33\n",
    "l"
   ]
  },
  {
   "cell_type": "code",
   "execution_count": 50,
   "id": "93364a8b-381b-414a-b75b-8ba7d0495d98",
   "metadata": {},
   "outputs": [
    {
     "ename": "TypeError",
     "evalue": "'tuple' object does not support item assignment",
     "output_type": "error",
     "traceback": [
      "\u001b[0;31m---------------------------------------------------------------------------\u001b[0m",
      "\u001b[0;31mTypeError\u001b[0m                                 Traceback (most recent call last)",
      "Cell \u001b[0;32mIn[50], line 3\u001b[0m\n\u001b[1;32m      1\u001b[0m \u001b[38;5;66;03m#example of immutable\u001b[39;00m\n\u001b[1;32m      2\u001b[0m l1\u001b[38;5;241m=\u001b[39m(\u001b[38;5;241m2\u001b[39m,\u001b[38;5;241m4\u001b[39m,\u001b[38;5;241m6\u001b[39m,\u001b[38;5;241m7\u001b[39m,\u001b[38;5;241m3\u001b[39m,\u001b[38;5;241m33\u001b[39m)\n\u001b[0;32m----> 3\u001b[0m \u001b[43ml1\u001b[49m\u001b[43m[\u001b[49m\u001b[38;5;241;43m0\u001b[39;49m\u001b[43m]\u001b[49m\u001b[38;5;241m=\u001b[39m\u001b[38;5;241m100\u001b[39m\n\u001b[1;32m      4\u001b[0m l1\n",
      "\u001b[0;31mTypeError\u001b[0m: 'tuple' object does not support item assignment"
     ]
    }
   ],
   "source": [
    "#example of immutable\n",
    "l1=(2,4,6,7,3,33)\n",
    "l1[0]=100\n",
    "l1"
   ]
  },
  {
   "cell_type": "code",
   "execution_count": null,
   "id": "27066b7e-3f35-40ee-a0e1-fbabe3449a84",
   "metadata": {},
   "outputs": [],
   "source": []
  }
 ],
 "metadata": {
  "kernelspec": {
   "display_name": "Python 3 (ipykernel)",
   "language": "python",
   "name": "python3"
  },
  "language_info": {
   "codemirror_mode": {
    "name": "ipython",
    "version": 3
   },
   "file_extension": ".py",
   "mimetype": "text/x-python",
   "name": "python",
   "nbconvert_exporter": "python",
   "pygments_lexer": "ipython3",
   "version": "3.10.8"
  }
 },
 "nbformat": 4,
 "nbformat_minor": 5
}
